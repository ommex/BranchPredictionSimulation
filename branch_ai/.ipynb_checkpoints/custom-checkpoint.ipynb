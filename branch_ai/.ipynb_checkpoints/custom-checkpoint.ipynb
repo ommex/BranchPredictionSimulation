{
 "cells": [
  {
   "cell_type": "markdown",
   "metadata": {},
   "source": [
    "# 1. Test Random Environment with OpenAI Gym"
   ]
  },
  {
   "cell_type": "code",
   "execution_count": 1,
   "metadata": {},
   "outputs": [],
   "source": [
    "from gym import Env\n",
    "from gym.spaces import Discrete, Box\n",
    "import numpy as np\n",
    "import random\n",
    "from tqdm import tqdm\n",
    "import json"
   ]
  },
  {
   "cell_type": "code",
   "execution_count": 2,
   "metadata": {},
   "outputs": [],
   "source": [
    "history_len = 5\n",
    "batch_size = 20\n",
    "steps = 50000\n",
    "random_batches = True\n",
    "specifyer = \"trace\"\n",
    "checkpoint_filename = \"checkpoint.json\"\n",
    "checkpoint_processed_data = True"
   ]
  },
  {
   "cell_type": "code",
   "execution_count": 3,
   "metadata": {},
   "outputs": [],
   "source": [
    "import numpy\n",
    "import json\n",
    "import numpy as np\n",
    "from copy import deepcopy\n",
    "\n",
    "\n",
    "def setup_data(checkpoint_filename, specifyer, save_file=False):\n",
    "    data = []\n",
    "    addresses = []\n",
    "    \n",
    "    with open(checkpoint_filename, 'r') as f:\n",
    "        raw_traces = json.load(f)\n",
    "        \n",
    "    traces = raw_traces[specifyer]\n",
    "\n",
    "\n",
    "    for trace in tqdm(traces):\n",
    "\n",
    "        address = trace[\"branch_address\"]\n",
    "        branch = trace[\"branch\"]\n",
    "\n",
    "        if address not in addresses:\n",
    "            addresses.append(address)\n",
    "            stack_pointer = 0\n",
    "            history = []\n",
    "\n",
    "            for i in range(history_len):\n",
    "                history.append(False)\n",
    "\n",
    "            tmp = [address, np.array(history), branch, stack_pointer]\n",
    "\n",
    "            data.append(tmp)\n",
    "\n",
    "        else:\n",
    "            for el in data[::-1]:\n",
    "                if el[0] == address:\n",
    "                    last_data = el[1]\n",
    "                    last_branch = el[2]\n",
    "                    stack_pointer = el[3]\n",
    "                    break\n",
    "\n",
    "\n",
    "            history = np.array(deepcopy(last_data))\n",
    "\n",
    "            history[stack_pointer] = last_branch\n",
    "\n",
    "            if stack_pointer < history_len-1:\n",
    "                stack_pointer = stack_pointer + 1\n",
    "\n",
    "            tmp = [address, history, branch, stack_pointer]\n",
    "\n",
    "            data.append(tmp)\n",
    "\n",
    "            \n",
    "    if save_file:\n",
    "        save_filename = specifyer.split(\".\")[0] + \".npy\"\n",
    "        np.save(save_filename, data)\n",
    "            \n",
    "    return data\n",
    "\n",
    "if checkpoint_processed_data:\n",
    "    with open(specifyer.split(\".\")[0] + \".npy\", 'rb') as f:\n",
    "        data = np.load(f, allow_pickle=True)\n",
    "else:\n",
    "    data = setup_data(checkpoint_filename, specifyer, save_file=True)"
   ]
  },
  {
   "cell_type": "code",
   "execution_count": 4,
   "metadata": {},
   "outputs": [],
   "source": [
    "global start\n",
    "start = 0"
   ]
  },
  {
   "cell_type": "code",
   "execution_count": 5,
   "metadata": {},
   "outputs": [
    {
     "data": {
      "text/plain": [
       "[array(['b77b5d60', array([ True,  True,  True,  True,  True]), True, 4],\n",
       "       dtype=object),\n",
       " array(['b77b5d49', array([False,  True, False, False, False]), True, 4],\n",
       "       dtype=object),\n",
       " array(['b77bdeb6', array([ True,  True,  True,  True,  True]), True, 4],\n",
       "       dtype=object),\n",
       " array(['b77b5e0f', array([False, False, False, False, False]), False, 2],\n",
       "       dtype=object),\n",
       " array(['b77b5e1c', array([ True,  True, False, False, False]), True, 2],\n",
       "       dtype=object),\n",
       " array(['b77b6200', array([False,  True, False, False, False]), True, 2],\n",
       "       dtype=object),\n",
       " array(['b77b61b4', array([False,  True,  True, False, False]), True, 3],\n",
       "       dtype=object),\n",
       " array(['b77b61dc', array([ True,  True,  True, False, False]), True, 3],\n",
       "       dtype=object),\n",
       " array(['b77be7ab', array([ True,  True,  True,  True,  True]), True, 4],\n",
       "       dtype=object),\n",
       " array(['b77b5d19', array([False, False, False, False, False]), False, 3],\n",
       "       dtype=object),\n",
       " array(['b77b5d2a', array([False, False, False, False, False]), False, 3],\n",
       "       dtype=object),\n",
       " array(['b77b5d35', array([False, False, False, False, False]), False, 3],\n",
       "       dtype=object),\n",
       " array(['b77b5d44', array([False, False, False, False, False]), False, 3],\n",
       "       dtype=object),\n",
       " array(['b77b5d49', array([False,  True, False, False,  True]), False, 4],\n",
       "       dtype=object),\n",
       " array(['b77b5d54', array([False, False, False, False, False]), False, 4],\n",
       "       dtype=object),\n",
       " array(['b77b5d60', array([ True,  True,  True,  True,  True]), True, 4],\n",
       "       dtype=object),\n",
       " array(['b77b5d49', array([False,  True, False, False, False]), False, 4],\n",
       "       dtype=object),\n",
       " array(['b77b5d54', array([False, False, False, False, False]), False, 4],\n",
       "       dtype=object),\n",
       " array(['b77b5d60', array([ True,  True,  True,  True,  True]), True, 4],\n",
       "       dtype=object),\n",
       " array(['b77b5d49', array([False,  True, False, False, False]), True, 4],\n",
       "       dtype=object)]"
      ]
     },
     "execution_count": 5,
     "metadata": {},
     "output_type": "execute_result"
    }
   ],
   "source": [
    "import random\n",
    "def get_batch(data):\n",
    "    batch = []\n",
    "    \n",
    "    global start\n",
    "    \n",
    "    if random_batches:\n",
    "        start = random.randint(0, len(data)-batch_size)\n",
    "    \n",
    "    for i in range(batch_size):\n",
    "        index = i + start\n",
    "        \n",
    "        if index > len(data)-1:\n",
    "            start = 0\n",
    "            index = 0\n",
    "            \n",
    "        batch.append(data[index])\n",
    "    \n",
    "    if not random_batches:\n",
    "        start = index+1\n",
    "            \n",
    "    return batch\n",
    "\n",
    "get_batch(data)"
   ]
  },
  {
   "cell_type": "code",
   "execution_count": 6,
   "metadata": {},
   "outputs": [],
   "source": [
    "class ShowerEnv(Env):\n",
    "    def __init__(self):\n",
    "        # Actions we can take --> not branch->0 , branch->1\n",
    "        self.action_space = Discrete(2)\n",
    "        # Parameter shape for the AI\n",
    "        self.observation_shape = (history_len)\n",
    "        self.observation_space = Box(low = np.zeros(self.observation_shape), \n",
    "                                            high = np.ones(self.observation_shape), dtype=np.ubyte)\n",
    "        \n",
    "        #get end\n",
    "        self.length = len(data)\n",
    "        \n",
    "        #Set start value\n",
    "        self.batch = get_batch(data)\n",
    "        self.index = 0\n",
    "        \n",
    "        self.label = self.batch[self.index][2]\n",
    "        self.state = self.batch[self.index][1]        \n",
    "\n",
    "        \n",
    "    def step(self, action):\n",
    "        self.index += 1 \n",
    "        \n",
    "        # Calculate reward\n",
    "        if action == self.label: \n",
    "            reward =1 \n",
    "        else: \n",
    "            reward = -1 \n",
    "        \n",
    "        # Check if shower is done\n",
    "        if self.index == batch_size-1: \n",
    "            done = True\n",
    "        else:\n",
    "            done = False\n",
    "        \n",
    "        # Apply temperature noise\n",
    "        #self.state += random.randint(-1,1)\n",
    "        # Set placeholder for info\n",
    "        info = {}\n",
    "                \n",
    "        self.label = self.batch[self.index][2]\n",
    "        self.state = self.batch[self.index][1]\n",
    "        \n",
    "        # Return step information\n",
    "        return self.state, reward, done, info\n",
    "\n",
    "    def render(self):\n",
    "        # Implement viz\n",
    "        pass\n",
    "    \n",
    "    def reset(self):\n",
    "        self.batch = get_batch(data)\n",
    "        self.index = 0\n",
    "        \n",
    "        self.label = self.batch[self.index][2]\n",
    "        self.state = self.batch[self.index][1]\n",
    "        \n",
    "        return self.state\n"
   ]
  },
  {
   "cell_type": "code",
   "execution_count": 7,
   "metadata": {},
   "outputs": [],
   "source": [
    "env = ShowerEnv()"
   ]
  },
  {
   "cell_type": "code",
   "execution_count": 8,
   "metadata": {},
   "outputs": [],
   "source": [
    "#env.observation_space.sample()"
   ]
  },
  {
   "cell_type": "code",
   "execution_count": 9,
   "metadata": {},
   "outputs": [],
   "source": [
    "def emulate():\n",
    "    episodes = 10\n",
    "    for episode in range(1, episodes+1):\n",
    "        state = env.reset()\n",
    "        done = False\n",
    "        score = 0 \n",
    "\n",
    "        while not done:\n",
    "            #env.render()\n",
    "            action = env.action_space.sample()\n",
    "            n_state, reward, done, info = env.step(action)\n",
    "            score+=reward\n",
    "        print('Episode:{} Score:{}'.format(episode, score))"
   ]
  },
  {
   "cell_type": "markdown",
   "metadata": {},
   "source": [
    "# 2. Create a Deep Learning Model with Keras"
   ]
  },
  {
   "cell_type": "code",
   "execution_count": 10,
   "metadata": {},
   "outputs": [],
   "source": [
    "import numpy as np\n",
    "from tensorflow.keras.models import Sequential\n",
    "from tensorflow.keras.layers import Dense, Flatten\n",
    "from tensorflow.keras.optimizers import Adam"
   ]
  },
  {
   "cell_type": "code",
   "execution_count": 11,
   "metadata": {},
   "outputs": [],
   "source": [
    "states = env.observation_space.shape\n",
    "actions = env.action_space.n"
   ]
  },
  {
   "cell_type": "code",
   "execution_count": null,
   "metadata": {},
   "outputs": [],
   "source": []
  },
  {
   "cell_type": "code",
   "execution_count": 12,
   "metadata": {},
   "outputs": [],
   "source": [
    "def build_model(states, actions):\n",
    "    model = Sequential()\n",
    "    model.add(Flatten(input_shape=(1,history_len)))\n",
    "    model.add(Dense(24, activation='relu'))\n",
    "    model.add(Dense(24, activation='relu'))\n",
    "    model.add(Dense(actions, activation='linear'))\n",
    "    return model"
   ]
  },
  {
   "cell_type": "code",
   "execution_count": 13,
   "metadata": {},
   "outputs": [],
   "source": [
    "model = build_model(states, actions)"
   ]
  },
  {
   "cell_type": "code",
   "execution_count": 14,
   "metadata": {},
   "outputs": [
    {
     "name": "stdout",
     "output_type": "stream",
     "text": [
      "Model: \"sequential\"\n",
      "_________________________________________________________________\n",
      "Layer (type)                 Output Shape              Param #   \n",
      "=================================================================\n",
      "flatten (Flatten)            (None, 5)                 0         \n",
      "_________________________________________________________________\n",
      "dense (Dense)                (None, 24)                144       \n",
      "_________________________________________________________________\n",
      "dense_1 (Dense)              (None, 24)                600       \n",
      "_________________________________________________________________\n",
      "dense_2 (Dense)              (None, 2)                 50        \n",
      "=================================================================\n",
      "Total params: 794\n",
      "Trainable params: 794\n",
      "Non-trainable params: 0\n",
      "_________________________________________________________________\n"
     ]
    }
   ],
   "source": [
    "model.summary()"
   ]
  },
  {
   "cell_type": "code",
   "execution_count": 15,
   "metadata": {},
   "outputs": [],
   "source": [
    "del model "
   ]
  },
  {
   "cell_type": "markdown",
   "metadata": {},
   "source": [
    "# 3. Build Agent with Keras-RL"
   ]
  },
  {
   "cell_type": "code",
   "execution_count": 16,
   "metadata": {},
   "outputs": [],
   "source": [
    "from rl.agents import DQNAgent\n",
    "from rl.policy import BoltzmannQPolicy\n",
    "from rl.memory import SequentialMemory"
   ]
  },
  {
   "cell_type": "code",
   "execution_count": 17,
   "metadata": {},
   "outputs": [],
   "source": [
    "model = build_model(states, actions)"
   ]
  },
  {
   "cell_type": "code",
   "execution_count": 18,
   "metadata": {},
   "outputs": [],
   "source": [
    "def build_agent(model, actions):\n",
    "    policy = BoltzmannQPolicy()\n",
    "    memory = SequentialMemory(limit=steps, window_length=1)\n",
    "    dqn = DQNAgent(model=model, memory=memory, policy=policy, \n",
    "                  nb_actions=actions, nb_steps_warmup=10, target_model_update=1e-2)\n",
    "    return dqn"
   ]
  },
  {
   "cell_type": "code",
   "execution_count": null,
   "metadata": {},
   "outputs": [
    {
     "name": "stdout",
     "output_type": "stream",
     "text": [
      "Training for 50000 steps ...\n",
      "Interval 1 (0 steps performed)\n",
      "    1/10000 [..............................] - ETA: 4:40 - reward: -1.0000"
     ]
    },
    {
     "name": "stderr",
     "output_type": "stream",
     "text": [
      "C:\\Users\\daune\\anaconda3\\envs\\branch_AI\\lib\\site-packages\\tensorflow\\python\\keras\\engine\\training.py:2426: UserWarning: `Model.state_updates` will be removed in a future version. This property should not be used in TensorFlow 2.0, as `updates` are applied automatically.\n",
      "  warnings.warn('`Model.state_updates` will be removed in a future version. '\n",
      "C:\\Users\\daune\\anaconda3\\envs\\branch_AI\\lib\\site-packages\\rl\\memory.py:37: UserWarning: Not enough entries to sample without replacement. Consider increasing your warm-up phase to avoid oversampling!\n",
      "  warnings.warn('Not enough entries to sample without replacement. Consider increasing your warm-up phase to avoid oversampling!')\n",
      "C:\\Users\\daune\\anaconda3\\envs\\branch_AI\\lib\\site-packages\\rl\\memory.py:38: DeprecationWarning: This function is deprecated. Please call randint(1, 10 + 1) instead\n",
      "  batch_idxs = np.random.random_integers(low, high - 1, size=size)\n"
     ]
    },
    {
     "name": "stdout",
     "output_type": "stream",
     "text": [
      "   72/10000 [..............................] - ETA: 1:02 - reward: 0.2500 "
     ]
    },
    {
     "name": "stderr",
     "output_type": "stream",
     "text": [
      "C:\\Users\\daune\\anaconda3\\envs\\branch_AI\\lib\\site-packages\\rl\\memory.py:38: DeprecationWarning: This function is deprecated. Please call randint(1, 11 + 1) instead\n",
      "  batch_idxs = np.random.random_integers(low, high - 1, size=size)\n",
      "C:\\Users\\daune\\anaconda3\\envs\\branch_AI\\lib\\site-packages\\rl\\memory.py:38: DeprecationWarning: This function is deprecated. Please call randint(1, 12 + 1) instead\n",
      "  batch_idxs = np.random.random_integers(low, high - 1, size=size)\n",
      "C:\\Users\\daune\\anaconda3\\envs\\branch_AI\\lib\\site-packages\\rl\\memory.py:38: DeprecationWarning: This function is deprecated. Please call randint(1, 13 + 1) instead\n",
      "  batch_idxs = np.random.random_integers(low, high - 1, size=size)\n",
      "C:\\Users\\daune\\anaconda3\\envs\\branch_AI\\lib\\site-packages\\rl\\memory.py:38: DeprecationWarning: This function is deprecated. Please call randint(1, 14 + 1) instead\n",
      "  batch_idxs = np.random.random_integers(low, high - 1, size=size)\n",
      "C:\\Users\\daune\\anaconda3\\envs\\branch_AI\\lib\\site-packages\\rl\\memory.py:38: DeprecationWarning: This function is deprecated. Please call randint(1, 15 + 1) instead\n",
      "  batch_idxs = np.random.random_integers(low, high - 1, size=size)\n",
      "C:\\Users\\daune\\anaconda3\\envs\\branch_AI\\lib\\site-packages\\rl\\memory.py:38: DeprecationWarning: This function is deprecated. Please call randint(1, 16 + 1) instead\n",
      "  batch_idxs = np.random.random_integers(low, high - 1, size=size)\n",
      "C:\\Users\\daune\\anaconda3\\envs\\branch_AI\\lib\\site-packages\\rl\\memory.py:38: DeprecationWarning: This function is deprecated. Please call randint(1, 17 + 1) instead\n",
      "  batch_idxs = np.random.random_integers(low, high - 1, size=size)\n",
      "C:\\Users\\daune\\anaconda3\\envs\\branch_AI\\lib\\site-packages\\rl\\memory.py:38: DeprecationWarning: This function is deprecated. Please call randint(1, 18 + 1) instead\n",
      "  batch_idxs = np.random.random_integers(low, high - 1, size=size)\n",
      "C:\\Users\\daune\\anaconda3\\envs\\branch_AI\\lib\\site-packages\\rl\\memory.py:38: DeprecationWarning: This function is deprecated. Please call randint(1, 19 + 1) instead\n",
      "  batch_idxs = np.random.random_integers(low, high - 1, size=size)\n",
      "C:\\Users\\daune\\anaconda3\\envs\\branch_AI\\lib\\site-packages\\rl\\memory.py:38: DeprecationWarning: This function is deprecated. Please call randint(1, 20 + 1) instead\n",
      "  batch_idxs = np.random.random_integers(low, high - 1, size=size)\n",
      "C:\\Users\\daune\\anaconda3\\envs\\branch_AI\\lib\\site-packages\\rl\\memory.py:38: DeprecationWarning: This function is deprecated. Please call randint(1, 21 + 1) instead\n",
      "  batch_idxs = np.random.random_integers(low, high - 1, size=size)\n",
      "C:\\Users\\daune\\anaconda3\\envs\\branch_AI\\lib\\site-packages\\rl\\memory.py:38: DeprecationWarning: This function is deprecated. Please call randint(1, 22 + 1) instead\n",
      "  batch_idxs = np.random.random_integers(low, high - 1, size=size)\n",
      "C:\\Users\\daune\\anaconda3\\envs\\branch_AI\\lib\\site-packages\\rl\\memory.py:38: DeprecationWarning: This function is deprecated. Please call randint(1, 23 + 1) instead\n",
      "  batch_idxs = np.random.random_integers(low, high - 1, size=size)\n",
      "C:\\Users\\daune\\anaconda3\\envs\\branch_AI\\lib\\site-packages\\rl\\memory.py:38: DeprecationWarning: This function is deprecated. Please call randint(1, 24 + 1) instead\n",
      "  batch_idxs = np.random.random_integers(low, high - 1, size=size)\n",
      "C:\\Users\\daune\\anaconda3\\envs\\branch_AI\\lib\\site-packages\\rl\\memory.py:38: DeprecationWarning: This function is deprecated. Please call randint(1, 25 + 1) instead\n",
      "  batch_idxs = np.random.random_integers(low, high - 1, size=size)\n",
      "C:\\Users\\daune\\anaconda3\\envs\\branch_AI\\lib\\site-packages\\rl\\memory.py:38: DeprecationWarning: This function is deprecated. Please call randint(1, 26 + 1) instead\n",
      "  batch_idxs = np.random.random_integers(low, high - 1, size=size)\n",
      "C:\\Users\\daune\\anaconda3\\envs\\branch_AI\\lib\\site-packages\\rl\\memory.py:38: DeprecationWarning: This function is deprecated. Please call randint(1, 27 + 1) instead\n",
      "  batch_idxs = np.random.random_integers(low, high - 1, size=size)\n",
      "C:\\Users\\daune\\anaconda3\\envs\\branch_AI\\lib\\site-packages\\rl\\memory.py:38: DeprecationWarning: This function is deprecated. Please call randint(1, 28 + 1) instead\n",
      "  batch_idxs = np.random.random_integers(low, high - 1, size=size)\n",
      "C:\\Users\\daune\\anaconda3\\envs\\branch_AI\\lib\\site-packages\\rl\\memory.py:38: DeprecationWarning: This function is deprecated. Please call randint(1, 29 + 1) instead\n",
      "  batch_idxs = np.random.random_integers(low, high - 1, size=size)\n",
      "C:\\Users\\daune\\anaconda3\\envs\\branch_AI\\lib\\site-packages\\rl\\memory.py:38: DeprecationWarning: This function is deprecated. Please call randint(1, 30 + 1) instead\n",
      "  batch_idxs = np.random.random_integers(low, high - 1, size=size)\n",
      "C:\\Users\\daune\\anaconda3\\envs\\branch_AI\\lib\\site-packages\\rl\\memory.py:38: DeprecationWarning: This function is deprecated. Please call randint(1, 31 + 1) instead\n",
      "  batch_idxs = np.random.random_integers(low, high - 1, size=size)\n"
     ]
    },
    {
     "name": "stdout",
     "output_type": "stream",
     "text": [
      "10000/10000 [==============================] - 36s 4ms/step - reward: 0.2866\n",
      "526 episodes - episode_reward: 5.445 [-11.000, 19.000] - loss: 0.419 - mae: 0.653 - mean_q: 0.992\n",
      "\n",
      "Interval 2 (10000 steps performed)\n",
      "10000/10000 [==============================] - 36s 4ms/step - reward: 0.2746\n",
      "526 episodes - episode_reward: 5.213 [-11.000, 19.000] - loss: 0.417 - mae: 0.644 - mean_q: 1.000\n",
      "\n",
      "Interval 3 (20000 steps performed)\n",
      "10000/10000 [==============================] - 37s 4ms/step - reward: 0.2840\n",
      "526 episodes - episode_reward: 5.392 [-13.000, 17.000] - loss: 0.414 - mae: 0.642 - mean_q: 1.000\n",
      "\n",
      "Interval 4 (30000 steps performed)\n",
      "10000/10000 [==============================] - 38s 4ms/step - reward: 0.2908\n",
      "527 episodes - episode_reward: 5.528 [-7.000, 17.000] - loss: 0.413 - mae: 0.641 - mean_q: 1.000\n",
      "\n",
      "Interval 5 (40000 steps performed)\n",
      " 7450/10000 [=====================>........] - ETA: 9s - reward: 0.2773 - ETA: 9s - reward: "
     ]
    }
   ],
   "source": [
    "dqn = build_agent(model, actions)\n",
    "dqn.compile(Adam(learning_rate=1e-3), metrics=['mae'])\n",
    "dqn.fit(env, nb_steps=steps, visualize=False, verbose=1)"
   ]
  },
  {
   "cell_type": "code",
   "execution_count": null,
   "metadata": {},
   "outputs": [],
   "source": [
    "#scores = dqn.test(env, nb_episodes=100, visualize=False)\n",
    "#print(np.mean(scores.history['episode_reward']))"
   ]
  },
  {
   "cell_type": "code",
   "execution_count": null,
   "metadata": {},
   "outputs": [],
   "source": [
    "#_ = dqn.test(env, nb_episodes=15, visualize=True)"
   ]
  },
  {
   "cell_type": "markdown",
   "metadata": {},
   "source": [
    "# 4. Reloading Agent from Memory"
   ]
  },
  {
   "cell_type": "code",
   "execution_count": null,
   "metadata": {},
   "outputs": [],
   "source": [
    "def test_model(input_ar):\n",
    "    np_ar = np.array([[input_ar]])\n",
    "    prediction = model.predict(np_ar)[0]\n",
    "    index = numpy.where(prediction == numpy.amax(prediction))[0][0]\n",
    "    \n",
    "    if index == 1:\n",
    "        return True\n",
    "    elif index == 0:\n",
    "        return False"
   ]
  },
  {
   "cell_type": "code",
   "execution_count": null,
   "metadata": {},
   "outputs": [],
   "source": [
    "global start\n",
    "start = 0\n",
    "\n",
    "def test_ai(data):\n",
    "    right_count = 0\n",
    "    wrong_count = 0\n",
    "    whole_count = 0\n",
    "\n",
    "    test_len = len(data)\n",
    "    for i in tqdm(range(int(test_len/batch_size))):\n",
    "        tmp_batch = get_batch(data)\n",
    "        for batch_part in tmp_batch:\n",
    "            whole_count += 1\n",
    "            tmp_adress = batch_part[0]\n",
    "            tmp_branch_history = batch_part[1]\n",
    "            tmp_branch = batch_part[2]\n",
    "\n",
    "            prediction = test_model(tmp_branch_history)\n",
    "\n",
    "            if prediction == tmp_branch:\n",
    "                right_count += 1\n",
    "\n",
    "            else:\n",
    "                wrong_count += 1\n",
    "            \n",
    "    results = {\"right\":right_count, \"wrong\":wrong_count, \"whole\": whole_count, \"wrong_percentage\":round((wrong_count/whole_count)*100,2)}\n",
    "    return results\n",
    "\n",
    "results = test_ai(data)\n",
    "print(results)"
   ]
  },
  {
   "cell_type": "code",
   "execution_count": null,
   "metadata": {},
   "outputs": [],
   "source": [
    "dqn.save_weights('wrong_percentage_13.15.h5f', overwrite=True)"
   ]
  },
  {
   "cell_type": "code",
   "execution_count": null,
   "metadata": {},
   "outputs": [],
   "source": [
    "del model\n",
    "del dqn\n",
    "del env"
   ]
  },
  {
   "cell_type": "code",
   "execution_count": null,
   "metadata": {},
   "outputs": [],
   "source": [
    "env = gym.make('CartPole-v0')\n",
    "actions = env.action_space.n\n",
    "states = env.observation_space.shape[0]\n",
    "model = build_model(states, actions)\n",
    "dqn = build_agent(model, actions)\n",
    "dqn.compile(Adam(lr=1e-3), metrics=['mae'])"
   ]
  },
  {
   "cell_type": "code",
   "execution_count": null,
   "metadata": {},
   "outputs": [],
   "source": [
    "dqn.load_weights('dqn_weights.h5f')"
   ]
  },
  {
   "cell_type": "code",
   "execution_count": null,
   "metadata": {},
   "outputs": [],
   "source": [
    "_ = dqn.test(env, nb_episodes=5, visualize=True)"
   ]
  },
  {
   "cell_type": "code",
   "execution_count": null,
   "metadata": {},
   "outputs": [],
   "source": []
  }
 ],
 "metadata": {
  "kernelspec": {
   "display_name": "Python 3 (ipykernel)",
   "language": "python",
   "name": "python3"
  },
  "language_info": {
   "codemirror_mode": {
    "name": "ipython",
    "version": 3
   },
   "file_extension": ".py",
   "mimetype": "text/x-python",
   "name": "python",
   "nbconvert_exporter": "python",
   "pygments_lexer": "ipython3",
   "version": "3.7.13"
  }
 },
 "nbformat": 4,
 "nbformat_minor": 4
}
